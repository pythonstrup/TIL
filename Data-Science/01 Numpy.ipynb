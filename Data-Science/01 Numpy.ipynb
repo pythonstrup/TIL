{
 "cells": [
  {
   "cell_type": "markdown",
   "id": "00154bc3",
   "metadata": {},
   "source": [
    "# 01 데이터 사이언스를 위한 라이브러리\n",
    "\n",
    "## 1. Numpy\n",
    "\n",
    "<hr/>\n",
    "Numpy란 \"Numerical Python\"의 약자로 대규모 다차원 배열과 행렬 연산에 필요한 다양한 함수를 제공하는 라이브러리이다. 파이썬의 list를 개선한 형태인 Numpy의 ndarray 객체는 더 많은 데이터를 더 빠르게 처리할 수 있도록 도와준다.\n",
    "\n",
    "넘파이는 N차원 배열 객체, 선형대수학, 푸리에 변환 및 난수 기능, 범용적 데이터 처리를 위한 다차원 컨테이너 등의 기능을 제공한다. Numpy를 사용하기 위해 아래와 같이 선언해주면 된다."
   ]
  },
  {
   "cell_type": "code",
   "execution_count": 2,
   "id": "d16632ea",
   "metadata": {},
   "outputs": [
    {
     "data": {
      "text/plain": [
       "'1.20.3'"
      ]
     },
     "execution_count": 2,
     "metadata": {},
     "output_type": "execute_result"
    }
   ],
   "source": [
    "import numpy as np\n",
    "np.__version__"
   ]
  },
  {
   "cell_type": "markdown",
   "id": "051b928e",
   "metadata": {},
   "source": [
    "Tip! 만약 모든 출력을 보고 싶다면 아래와 같이 적어주면 된다."
   ]
  },
  {
   "cell_type": "code",
   "execution_count": 3,
   "id": "8ce3b563",
   "metadata": {},
   "outputs": [],
   "source": [
    "from IPython.core.interactiveshell import InteractiveShell\n",
    "InteractiveShell.ast_node_interactivity = \"all\""
   ]
  },
  {
   "cell_type": "markdown",
   "id": "4b99843c",
   "metadata": {},
   "source": [
    "\n",
    "### 1-1. Numpy 배열\n",
    "\n",
    "<hr/>\n",
    "\n",
    "Numpy 배열인 ndarray객체는 array메소드를 통해 생성할 수 있는데, 파라미터로 파이썬의 list형의 데이터를 넣어주면 된다."
   ]
  },
  {
   "cell_type": "code",
   "execution_count": 4,
   "id": "8ebf04d6",
   "metadata": {
    "scrolled": true
   },
   "outputs": [
    {
     "data": {
      "text/plain": [
       "array([1, 2, 3])"
      ]
     },
     "execution_count": 4,
     "metadata": {},
     "output_type": "execute_result"
    }
   ],
   "source": [
    "arr = np.array([1,2,3])\n",
    "arr"
   ]
  },
  {
   "cell_type": "code",
   "execution_count": 6,
   "id": "1fc6c26f",
   "metadata": {},
   "outputs": [
    {
     "data": {
      "text/plain": [
       "array([1., 2., 3.])"
      ]
     },
     "execution_count": 6,
     "metadata": {},
     "output_type": "execute_result"
    }
   ],
   "source": [
    "arr = np.array([1,2,3], dtype=\"float64\")\n",
    "arr"
   ]
  },
  {
   "cell_type": "markdown",
   "id": "d1e816a9",
   "metadata": {},
   "source": [
    "\n",
    "### 1-2. Numpy 메소드를 통해 배열 만들기\n",
    "\n",
    "<hr/>"
   ]
  },
  {
   "cell_type": "code",
   "execution_count": 26,
   "id": "0fda1916",
   "metadata": {},
   "outputs": [
    {
     "data": {
      "text/plain": [
       "array([0, 0, 0, 0, 0, 0, 0, 0, 0, 0])"
      ]
     },
     "execution_count": 26,
     "metadata": {},
     "output_type": "execute_result"
    },
    {
     "data": {
      "text/plain": [
       "array([[1., 1., 1., 1., 1.],\n",
       "       [1., 1., 1., 1., 1.],\n",
       "       [1., 1., 1., 1., 1.]])"
      ]
     },
     "execution_count": 26,
     "metadata": {},
     "output_type": "execute_result"
    },
    {
     "data": {
      "text/plain": [
       "array([[3.14, 3.14, 3.14, 3.14, 3.14],\n",
       "       [3.14, 3.14, 3.14, 3.14, 3.14],\n",
       "       [3.14, 3.14, 3.14, 3.14, 3.14]])"
      ]
     },
     "execution_count": 26,
     "metadata": {},
     "output_type": "execute_result"
    },
    {
     "data": {
      "text/plain": [
       "array([[1., 0., 0.],\n",
       "       [0., 1., 0.],\n",
       "       [0., 0., 1.]])"
      ]
     },
     "execution_count": 26,
     "metadata": {},
     "output_type": "execute_result"
    },
    {
     "data": {
      "text/plain": [
       "array([1., 1., 1.])"
      ]
     },
     "execution_count": 26,
     "metadata": {},
     "output_type": "execute_result"
    }
   ],
   "source": [
    "# 0으로 채운 길이 10의 정수 배열\n",
    "np.zeros(10, dtype=int)\n",
    "\n",
    "# 1로 채운 3x5 부동 소수점 배열\n",
    "np.ones((3, 5), dtype=float)\n",
    "\n",
    "# 3.14로 채운 3x5 배열\n",
    "np.full((3, 5), 3.14)\n",
    "\n",
    "# 3x3 단위행렬(곱했을 때 1과 같은 역할을 하는 행렬)\n",
    "np.eye(3)\n",
    "\n",
    "np.empty(3)"
   ]
  },
  {
   "cell_type": "markdown",
   "id": "b18e1a12",
   "metadata": {},
   "source": [
    "- 난수를 통한 배열 생성\n",
    "\n",
    "np.random을 이용한 배열 생성으로 random, normal, randint, randn, rand 등이 있다.\n",
    "\n",
    "Tip! np.random.seed(임의의 숫자)를 이용하면 같은 값의 난수 입력을 받을 수 있어 비교하기가 편하다."
   ]
  },
  {
   "cell_type": "code",
   "execution_count": 25,
   "id": "453388c3",
   "metadata": {},
   "outputs": [
    {
     "data": {
      "text/plain": [
       "array([[0.51929269, 0.87042204, 0.34542374],\n",
       "       [0.61417534, 0.14085319, 0.35836425],\n",
       "       [0.08454166, 0.1238812 , 0.48541826]])"
      ]
     },
     "execution_count": 25,
     "metadata": {},
     "output_type": "execute_result"
    },
    {
     "data": {
      "text/plain": [
       "array([[-0.32989793,  0.88326328, -1.2605663 ],\n",
       "       [ 1.771476  , -1.11999977, -1.30756471],\n",
       "       [ 0.48020197,  0.92547754,  0.12026089]])"
      ]
     },
     "execution_count": 25,
     "metadata": {},
     "output_type": "execute_result"
    },
    {
     "data": {
      "text/plain": [
       "array([[4, 4, 8],\n",
       "       [3, 8, 0],\n",
       "       [5, 3, 8]])"
      ]
     },
     "execution_count": 25,
     "metadata": {},
     "output_type": "execute_result"
    }
   ],
   "source": [
    "# 0과 1사이의 난수\n",
    "np.random.random((3, 3))\n",
    "\n",
    "# 정규 분포(평균=0, 표준 편차=1)의 난수로 채운 3x3 배열 만들기\n",
    "np.random.normal(0, 1, (3, 3))\n",
    "\n",
    "# [0, 10] 사이의 정수 난수\n",
    "np.random.randint(0, 10, (3, 3))"
   ]
  },
  {
   "cell_type": "markdown",
   "id": "e1e4d750",
   "metadata": {},
   "source": [
    "- numpy.linspace\n",
    "\n",
    "numpy.linspace(start, stop, num=50, endpoint=True, retstep=False, dtype=None) <br/>\n",
    "start부터 stop까지의 범위에서 데이터를 생성\n",
    "\n",
    "<br/>\n",
    "\n",
    "- numpy.arange\n",
    "\n",
    "numpy.arange([start,] stop[, step,], dtype=None) <br/>\n",
    "start부터 stop미만까지의 범위에서 step 간격의 데이터를 생성\n",
    "\n",
    "<br/>\n",
    "\n",
    "- numpy.logspace\n",
    "\n",
    "numpy.logspace(start, stop, num=50, endpoint=True, base=10.0, dtype=None) <br/>\n",
    "로그 스케일의 linspace함수"
   ]
  },
  {
   "cell_type": "code",
   "execution_count": 24,
   "id": "d469036a",
   "metadata": {},
   "outputs": [
    {
     "data": {
      "text/plain": [
       "array([ 0,  2,  4,  6,  8, 10, 12, 14, 16, 18])"
      ]
     },
     "execution_count": 24,
     "metadata": {},
     "output_type": "execute_result"
    },
    {
     "data": {
      "text/plain": [
       "array([0.  , 0.25, 0.5 , 0.75, 1.  ])"
      ]
     },
     "execution_count": 24,
     "metadata": {},
     "output_type": "execute_result"
    },
    {
     "data": {
      "text/plain": [
       "array([ 1.        ,  1.77827941,  3.16227766,  5.62341325, 10.        ])"
      ]
     },
     "execution_count": 24,
     "metadata": {},
     "output_type": "execute_result"
    }
   ],
   "source": [
    "np.arange(0, 20, 2)\n",
    "\n",
    "np.linspace(0, 1, 5)\n",
    "\n",
    "np.logspace(0, 1, 5, endpoint=True)"
   ]
  },
  {
   "cell_type": "markdown",
   "id": "eae70dc8",
   "metadata": {},
   "source": [
    "\n",
    "### 1-3. Numpy 데이터 타입\n",
    "\n",
    "<hr/>\n",
    "\n",
    "<img src=\"img/numpy-datatype.png\">"
   ]
  },
  {
   "cell_type": "markdown",
   "id": "f570ddda",
   "metadata": {},
   "source": [
    "\n",
    "### 1-4. Numpy 배열 접근\n",
    "\n",
    "<hr/>\n",
    "\n",
    "- ndarray의 정보 알아내기\n",
    "\n",
    "```python\n",
    "ndarray.ndim            # 배열의 차원 (ex- 1차원배열, 3차원배열)\n",
    "ndarray.shape           # 배열의 형상 (ex- 3차원이면, (x축, y축, z축) 반환)\n",
    "ndarray.size            # 배열의 요소 수\n",
    "ndarray.dtype           # 배열의 데이터타입\n",
    "ndarray.itemsize        # 배열 요소의 바이트크기\n",
    "ndarray.nbytes          # 배열 전체 메모리 크기 (바이트 단위)\n",
    "```\n",
    "\n",
    "<br/>\n",
    "\n",
    "- ndarray가 2차원 배열일 때, 행 또는 열 정보만 뽑아내기\n",
    "\n",
    "```python\n",
    "ndarray[0, :]  # 첫 번째 행만 반환\n",
    "\n",
    "ndarray[:,1]   # 두 번째 열만 반환\n",
    "```"
   ]
  },
  {
   "cell_type": "markdown",
   "id": "17239d61",
   "metadata": {},
   "source": [
    "\n",
    "### 1-5. Numpy 배열 재구조화\n",
    "\n",
    "<hr/>\n",
    "<br/>\n",
    "\n",
    "- Numpy.ndarray.reshape(shape, order='C')"
   ]
  },
  {
   "cell_type": "code",
   "execution_count": null,
   "id": "b73b00b7",
   "metadata": {},
   "outputs": [],
   "source": [
    "grid = np.arange(1, 10).reshape((3, 3))\n",
    "print(grid)\n",
    "\n",
    "x = np.array([1, 2, 3])\n",
    "x.reshape((3, 1))       # 열벡터로 변경\n",
    "x.reshape((1, 3))       # 행백터로 변경"
   ]
  },
  {
   "cell_type": "markdown",
   "id": "8be04383",
   "metadata": {},
   "source": [
    "<br/>\n",
    "\n",
    "- Numpy.newaxis"
   ]
  },
  {
   "cell_type": "code",
   "execution_count": 9,
   "id": "00ba0b8c",
   "metadata": {},
   "outputs": [
    {
     "name": "stdout",
     "output_type": "stream",
     "text": [
      "[[1 2 3]\n",
      " [4 5 6]\n",
      " [7 8 9]]\n"
     ]
    },
    {
     "data": {
      "text/plain": [
       "array([[1],\n",
       "       [2],\n",
       "       [3]])"
      ]
     },
     "execution_count": 9,
     "metadata": {},
     "output_type": "execute_result"
    },
    {
     "data": {
      "text/plain": [
       "array([[1, 2, 3]])"
      ]
     },
     "execution_count": 9,
     "metadata": {},
     "output_type": "execute_result"
    },
    {
     "data": {
      "text/plain": [
       "array([[1],\n",
       "       [2],\n",
       "       [3]])"
      ]
     },
     "execution_count": 9,
     "metadata": {},
     "output_type": "execute_result"
    },
    {
     "data": {
      "text/plain": [
       "array([[1, 2, 3]])"
      ]
     },
     "execution_count": 9,
     "metadata": {},
     "output_type": "execute_result"
    }
   ],
   "source": [
    "x[:, np.newaxis]        # 열벡터로 변경\n",
    "x[np.newaxis, :]        # 행백터로 변경"
   ]
  },
  {
   "cell_type": "markdown",
   "id": "5235c471",
   "metadata": {},
   "source": [
    "<br/>\n",
    "\n",
    "#### 접합하기 \n",
    "\n",
    "- Numpy.concatenate\n",
    "\n",
    "배열을 접합시킴\n",
    "\n",
    "- Numpy.vstack\n",
    "\n",
    "배열을 수직으로 쌓는 방식\n",
    "\n",
    "- Numpy.hstack\n",
    "\n",
    "배열을 수평으로 쌓는 방식"
   ]
  },
  {
   "cell_type": "code",
   "execution_count": 19,
   "id": "057ddcfb",
   "metadata": {},
   "outputs": [
    {
     "data": {
      "text/plain": [
       "array([1, 2, 3, 3, 2, 1])"
      ]
     },
     "execution_count": 19,
     "metadata": {},
     "output_type": "execute_result"
    },
    {
     "name": "stdout",
     "output_type": "stream",
     "text": [
      "[ 1  2  3  3  2  1 99 99 99]\n"
     ]
    },
    {
     "data": {
      "text/plain": [
       "array([[1, 2, 3],\n",
       "       [4, 5, 6],\n",
       "       [1, 2, 3],\n",
       "       [4, 5, 6]])"
      ]
     },
     "execution_count": 19,
     "metadata": {},
     "output_type": "execute_result"
    },
    {
     "data": {
      "text/plain": [
       "array([[1, 2, 3, 1, 2, 3],\n",
       "       [4, 5, 6, 4, 5, 6]])"
      ]
     },
     "execution_count": 19,
     "metadata": {},
     "output_type": "execute_result"
    },
    {
     "data": {
      "text/plain": [
       "array([[1, 2, 3],\n",
       "       [1, 2, 3],\n",
       "       [4, 5, 6]])"
      ]
     },
     "execution_count": 19,
     "metadata": {},
     "output_type": "execute_result"
    },
    {
     "data": {
      "text/plain": [
       "array([[ 1,  2,  3, 10],\n",
       "       [ 4,  5,  6, 10]])"
      ]
     },
     "execution_count": 19,
     "metadata": {},
     "output_type": "execute_result"
    }
   ],
   "source": [
    "x = np.array([1, 2, 3])\n",
    "y = np.array([3, 2, 1])\n",
    "np.concatenate([x, y])\n",
    "\n",
    "z = [99, 99, 99]\n",
    "print(np.concatenate([x, y, z]))\n",
    "\n",
    "grid = np.array([[1,2,3], [4,5,6]])\n",
    "# 수직으로 연결\n",
    "np.concatenate([grid, grid])\n",
    "\n",
    "# 수평으로 연결\n",
    "np.concatenate([grid, grid], axis=1)\n",
    "\n",
    "np.vstack([x, grid])\n",
    "\n",
    "y = np.array([[10], [10]])\n",
    "np.hstack([grid, y])"
   ]
  },
  {
   "cell_type": "markdown",
   "id": "e855ce19",
   "metadata": {},
   "source": [
    "<br/>\n",
    "\n",
    "#### 분할하기 \n",
    "\n",
    "- Numpy.split(ary, indices_or_sections, axis=0)\n",
    "\n",
    "indices_or_sections에 적힌 인덱스에 따라 슬라이싱해서 나눔\n",
    "\n",
    "- Numpy.vsplit\n",
    "\n",
    "인덱스에 맞게 수평으로 분할\n",
    "\n",
    "- Numpy.hsplit\n",
    "\n",
    "인덱스에 맞게 수직으로 분할"
   ]
  },
  {
   "cell_type": "code",
   "execution_count": 43,
   "id": "ba3290e9",
   "metadata": {},
   "outputs": [
    {
     "name": "stdout",
     "output_type": "stream",
     "text": [
      "[0 1 2] [3 4] [5 6 7 8 9]\n",
      "[0 1 2] [3 4] [5] [6 7 8] [9]\n"
     ]
    },
    {
     "data": {
      "text/plain": [
       "array([[ 0,  1,  2,  3],\n",
       "       [ 4,  5,  6,  7],\n",
       "       [ 8,  9, 10, 11],\n",
       "       [12, 13, 14, 15]])"
      ]
     },
     "execution_count": 43,
     "metadata": {},
     "output_type": "execute_result"
    },
    {
     "data": {
      "text/plain": [
       "array([[0, 1, 2, 3],\n",
       "       [4, 5, 6, 7]])"
      ]
     },
     "execution_count": 43,
     "metadata": {},
     "output_type": "execute_result"
    },
    {
     "data": {
      "text/plain": [
       "array([[ 8,  9, 10, 11],\n",
       "       [12, 13, 14, 15]])"
      ]
     },
     "execution_count": 43,
     "metadata": {},
     "output_type": "execute_result"
    },
    {
     "data": {
      "text/plain": [
       "array([[ 0,  1],\n",
       "       [ 4,  5],\n",
       "       [ 8,  9],\n",
       "       [12, 13]])"
      ]
     },
     "execution_count": 43,
     "metadata": {},
     "output_type": "execute_result"
    },
    {
     "data": {
      "text/plain": [
       "array([[ 2,  3],\n",
       "       [ 6,  7],\n",
       "       [10, 11],\n",
       "       [14, 15]])"
      ]
     },
     "execution_count": 43,
     "metadata": {},
     "output_type": "execute_result"
    }
   ],
   "source": [
    "x = [0, 1, 2,3,4,5,6,7,8,9]\n",
    "x1, x2, x3 = np.split(x, (3, 5))\n",
    "print(x1, x2, x3)\n",
    "\n",
    "x1, x2, x3, x4, x5 = np.split(x, (3, 5, 6, 9))\n",
    "print(x1, x2, x3, x4, x5)\n",
    "\n",
    "grid = np.arange(16).reshape((4,4))\n",
    "grid\n",
    "\n",
    "upper, lower = np.vsplit(grid, [2])\n",
    "upper\n",
    "lower\n",
    "\n",
    "left, right = np.hsplit(grid, [2])\n",
    "left\n",
    "right"
   ]
  },
  {
   "cell_type": "markdown",
   "id": "18e00d69",
   "metadata": {},
   "source": [
    "\n",
    "### 1-6. Numpy 메소드\n",
    "\n",
    "<hr/>"
   ]
  },
  {
   "cell_type": "markdown",
   "id": "13489a48",
   "metadata": {},
   "source": [
    "| Operator | Method| Description |\n",
    "|:---------------: | :---------------: | :---------------: |\n",
    "| `+` | `Numpy.add` | 더하기 |\n",
    "| `-` | `Numpy.subtract` | 빼기 |\n",
    "| `-` | `Numpy.negative` | unary negation(단항 부정) |\n",
    "| `*` | `Numpy.multiply` | 곱하기 |\n",
    "| `/` | `Numpy.divide` | 나누기 |\n",
    "| `//` | `Numpy.floor_divide` | 정수만 취하는 나누기 |\n",
    "| `**` | `Numpy.power` | 제곱 |\n",
    "| `%` | `Numpy.mod` | 나머지 연산 |\n",
    "| `ㅣ변수ㅣ` | `Numpy.abs` | 절대값 연산 |\n",
    "| `sin` | `Numpy.sin` | sin 연산 |\n",
    "| `cos` | `Numpy.cos` | cos 연산 |\n",
    "| `tan` | `Numpy.tan` | tan 연산 |\n",
    "| `e^x` | `Numpy.exp` | e의 제곱 |\n",
    "| `ln` | `Numpy.log` | 자연로그 |\n",
    "| `log2` | `Numpy.log2` | log2(x) |\n",
    "| `log10` | `Numpy.log10` | 상용로그 |\n"
   ]
  },
  {
   "cell_type": "code",
   "execution_count": 46,
   "id": "623ae00c",
   "metadata": {},
   "outputs": [
    {
     "data": {
      "text/plain": [
       "array([2, 1, 0, 1, 2])"
      ]
     },
     "execution_count": 46,
     "metadata": {},
     "output_type": "execute_result"
    },
    {
     "data": {
      "text/plain": [
       "array([2, 1, 0, 1, 2])"
      ]
     },
     "execution_count": 46,
     "metadata": {},
     "output_type": "execute_result"
    },
    {
     "data": {
      "text/plain": [
       "array([2, 1, 0, 1, 2])"
      ]
     },
     "execution_count": 46,
     "metadata": {},
     "output_type": "execute_result"
    }
   ],
   "source": [
    "x = np.array([-2, -1, 0, 1, 2])\n",
    "abs(x)\n",
    "np.absolute(x)\n",
    "np.abs(x)"
   ]
  },
  {
   "cell_type": "code",
   "execution_count": 47,
   "id": "229a74d4",
   "metadata": {},
   "outputs": [
    {
     "name": "stdout",
     "output_type": "stream",
     "text": [
      "theta      =  [0.         1.57079633 3.14159265]\n",
      "sin(theta) =  [0.0000000e+00 1.0000000e+00 1.2246468e-16]\n",
      "cos(theta) =  [ 1.000000e+00  6.123234e-17 -1.000000e+00]\n",
      "tan(theta) =  [ 0.00000000e+00  1.63312394e+16 -1.22464680e-16]\n"
     ]
    }
   ],
   "source": [
    "theta = np.linspace(0, np.pi, 3)\n",
    "\n",
    "print(\"theta      = \", theta)\n",
    "print(\"sin(theta) = \", np.sin(theta))\n",
    "print(\"cos(theta) = \", np.cos(theta))\n",
    "print(\"tan(theta) = \", np.tan(theta))"
   ]
  },
  {
   "cell_type": "code",
   "execution_count": 48,
   "id": "b555b255",
   "metadata": {},
   "outputs": [
    {
     "name": "stdout",
     "output_type": "stream",
     "text": [
      "x         =  [-1, 0, 1]\n",
      "arcsin(x) =  [-1.57079633  0.          1.57079633]\n",
      "arccos(x) =  [3.14159265 1.57079633 0.        ]\n",
      "arctan(x) =  [-0.78539816  0.          0.78539816]\n"
     ]
    }
   ],
   "source": [
    "x = [-1, 0, 1]\n",
    "print(\"x         = \", x)\n",
    "print(\"arcsin(x) = \", np.arcsin(x))\n",
    "print(\"arccos(x) = \", np.arccos(x))\n",
    "print(\"arctan(x) = \", np.arctan(x))"
   ]
  },
  {
   "cell_type": "code",
   "execution_count": 49,
   "id": "01888bb1",
   "metadata": {},
   "outputs": [
    {
     "name": "stdout",
     "output_type": "stream",
     "text": [
      "x     = [1, 2, 3]\n",
      "e^x   = [ 2.71828183  7.3890561  20.08553692]\n",
      "2^x   = [2. 4. 8.]\n",
      "3^x   = [ 3  9 27]\n"
     ]
    }
   ],
   "source": [
    "x = [1, 2, 3]\n",
    "print(\"x     =\", x)\n",
    "print(\"e^x   =\", np.exp(x))\n",
    "print(\"2^x   =\", np.exp2(x))\n",
    "print(\"3^x   =\", np.power(3, x))"
   ]
  },
  {
   "cell_type": "code",
   "execution_count": 51,
   "id": "6b0a9f1e",
   "metadata": {},
   "outputs": [
    {
     "name": "stdout",
     "output_type": "stream",
     "text": [
      "x        = [1, 2, 4, 10]\n",
      "ln(x)    = [0.         0.69314718 1.38629436 2.30258509]\n",
      "log2(x)  = [0.         1.         2.         3.32192809]\n",
      "log10(x) = [0.         0.30103    0.60205999 1.        ]\n"
     ]
    }
   ],
   "source": [
    "x = [1, 2, 4, 10]\n",
    "print(\"x        =\", x)\n",
    "print(\"ln(x)    =\", np.log(x))\n",
    "print(\"log2(x)  =\", np.log2(x))\n",
    "print(\"log10(x) =\", np.log10(x))"
   ]
  },
  {
   "cell_type": "code",
   "execution_count": 57,
   "id": "e798cccc",
   "metadata": {},
   "outputs": [
    {
     "name": "stdout",
     "output_type": "stream",
     "text": [
      "exp(x) - 1 = [0.         0.0010005  0.01005017 0.10517092]\n",
      "log(1 + x) = [0.         0.0009995  0.00995033 0.09531018]\n",
      "exp(x) - 1 = [4.57494152e+00 2.20254658e+04 2.68811714e+43]\n",
      "log(1 + x) = [1.         2.39789527 4.61512052]\n"
     ]
    }
   ],
   "source": [
    "x = [0, 0.001, 0.01, 0.1]\n",
    "# e^x - 1 값\n",
    "print(\"exp(x) - 1 =\", np.expm1(x))\n",
    "\n",
    "# log(1+x) 값\n",
    "print(\"log(1 + x) =\", np.log1p(x))\n",
    "\n",
    "\n",
    "x = [np.e-1, 10, 100]\n",
    "# e^x - 1 값\n",
    "print(\"exp(x) - 1 =\", np.expm1(x))\n",
    "\n",
    "# log(1+x) 값\n",
    "print(\"log(1 + x) =\", np.log1p(x))"
   ]
  }
 ],
 "metadata": {
  "kernelspec": {
   "display_name": "Python 3 (ipykernel)",
   "language": "python",
   "name": "python3"
  },
  "language_info": {
   "codemirror_mode": {
    "name": "ipython",
    "version": 3
   },
   "file_extension": ".py",
   "mimetype": "text/x-python",
   "name": "python",
   "nbconvert_exporter": "python",
   "pygments_lexer": "ipython3",
   "version": "3.9.7"
  }
 },
 "nbformat": 4,
 "nbformat_minor": 5
}
