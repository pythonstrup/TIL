{
 "cells": [
  {
   "cell_type": "markdown",
   "id": "af1353ff",
   "metadata": {},
   "source": [
    "\n",
    "# 3. Pandas\n",
    "\n",
    "<hr/>\n",
    "\n",
    "pandas는 웨스 맥키니(Wes McKinney)가 만든 데이터 조작 및 분석을 위한 라이브러리이다. 숫자 테이블과 시계열을 조작하기 위한 데이터 구조와 연상을 제공하고 BSD 라이센스에 따라 출시된 무료 소프트웨어이다.\n",
    "\n",
    "pandas의 설치 방법은 아래와 같다.\n",
    "\n",
    "```\n",
    "pip intstall pandas\n",
    "```\n",
    "\n",
    "설치가 완료되었다면 import로 선언해주고 버전을 확인해보자."
   ]
  },
  {
   "cell_type": "code",
   "execution_count": 1,
   "id": "a56e6649",
   "metadata": {},
   "outputs": [
    {
     "data": {
      "text/plain": [
       "'1.3.4'"
      ]
     },
     "execution_count": 1,
     "metadata": {},
     "output_type": "execute_result"
    }
   ],
   "source": [
    "import pandas\n",
    "pandas.__version__"
   ]
  },
  {
   "attachments": {},
   "cell_type": "markdown",
   "id": "4d1e12cc",
   "metadata": {},
   "source": [
    "<br/>\n",
    "\n",
    "### 3-1. Series\n",
    "\n",
    "<hr/>\n",
    "\n",
    "pandas의 기본 자료구조로는 Series와 DataFrame이 있다. 그 중 Series는 1차원 배열과 유사한 구조로 index를 가지고 있으며, 일반적인 리스트나 배열로부터 만들 수 있다. 슬라이싱이 가능하며 다양한 메소드를 통해 Series를 사용할 수 있다.\n",
    "\n",
    "<br/><br/>\n",
    "\n",
    "- 메소드의 종류\n",
    "\n",
    "| 메소드 | 설명 | \n",
    "|:------:|:-----:|\n",
    "| pandas.Series.values | Series의 attributes를 출력 |\n",
    "| pandas.Series.index | Series의 Index를 출력 |\n",
    "| pandas.Series[index] | Index 위치의 data의 항목을 출력 |\n",
    "| pandas.Series[begin:end] | Begin~end까지의 항목 출력 (슬라이싱) |"
   ]
  },
  {
   "cell_type": "code",
   "execution_count": 8,
   "id": "f038b5c4",
   "metadata": {},
   "outputs": [
    {
     "name": "stdout",
     "output_type": "stream",
     "text": [
      "0    1\n",
      "1    2\n",
      "2    3\n",
      "3    4\n",
      "4    5\n",
      "dtype: int64\n"
     ]
    }
   ],
   "source": [
    "import pandas\n",
    "data = pandas.Series([1, 2, 3, 4, 5])\n",
    "print(data)"
   ]
  },
  {
   "cell_type": "code",
   "execution_count": 9,
   "id": "194e8fe9",
   "metadata": {},
   "outputs": [
    {
     "name": "stdout",
     "output_type": "stream",
     "text": [
      "\n",
      "값 출력\n",
      "[1 2 3 4 5]\n"
     ]
    }
   ],
   "source": [
    "print()\n",
    "print(\"값 출력\")\n",
    "print(data.values)"
   ]
  },
  {
   "cell_type": "code",
   "execution_count": 10,
   "id": "716df9d5",
   "metadata": {},
   "outputs": [
    {
     "name": "stdout",
     "output_type": "stream",
     "text": [
      "\n",
      "인덱스 출력\n",
      "RangeIndex(start=0, stop=5, step=1)\n"
     ]
    }
   ],
   "source": [
    "print()\n",
    "print(\"인덱스 출력\")\n",
    "print(data.index)"
   ]
  },
  {
   "cell_type": "code",
   "execution_count": 11,
   "id": "9e874306",
   "metadata": {},
   "outputs": [
    {
     "name": "stdout",
     "output_type": "stream",
     "text": [
      "\n",
      "요소찾기\n",
      "3\n"
     ]
    }
   ],
   "source": [
    "print()\n",
    "print(\"요소찾기\")\n",
    "print(data[2])"
   ]
  },
  {
   "cell_type": "code",
   "execution_count": 12,
   "id": "f103a55f",
   "metadata": {},
   "outputs": [
    {
     "name": "stdout",
     "output_type": "stream",
     "text": [
      "\n",
      "슬라이싱\n",
      "0    1\n",
      "1    2\n",
      "dtype: int64\n"
     ]
    }
   ],
   "source": [
    "print()\n",
    "print(\"슬라이싱\")\n",
    "print(data[0:2])"
   ]
  },
  {
   "cell_type": "markdown",
   "id": "214e4c76",
   "metadata": {},
   "source": [
    "<br/><br/>\n",
    "\n",
    "- Series 의 연산\n",
    "\n",
    "Series형끼리 `+`, `-`, `*`, `/` 등의 연산을 수행할 수 있다. 만약 둘의 길이가 맞지 않으면, NaN으로 표시되는 부분이 생긴다.\n",
    "\n",
    "<br/>"
   ]
  },
  {
   "cell_type": "code",
   "execution_count": 20,
   "id": "0e3ae165",
   "metadata": {},
   "outputs": [
    {
     "data": {
      "text/plain": [
       "0    1\n",
       "1    1\n",
       "2    1\n",
       "dtype: int64"
      ]
     },
     "execution_count": 20,
     "metadata": {},
     "output_type": "execute_result"
    },
    {
     "data": {
      "text/plain": [
       "0     3\n",
       "1     7\n",
       "2    11\n",
       "dtype: int64"
      ]
     },
     "execution_count": 20,
     "metadata": {},
     "output_type": "execute_result"
    },
    {
     "data": {
      "text/plain": [
       "0     2\n",
       "1    12\n",
       "2    30\n",
       "dtype: int64"
      ]
     },
     "execution_count": 20,
     "metadata": {},
     "output_type": "execute_result"
    }
   ],
   "source": [
    "from IPython.core.interactiveshell import InteractiveShell\n",
    "InteractiveShell.ast_node_interactivity = \"all\"\n",
    "\n",
    "A = pandas.Series([2, 4, 6])\n",
    "B = pandas.Series([1, 3 ,5])\n",
    "A-B\n",
    "A+B\n",
    "A*B"
   ]
  },
  {
   "cell_type": "code",
   "execution_count": 22,
   "id": "42e36f7e",
   "metadata": {},
   "outputs": [
    {
     "data": {
      "text/plain": [
       "0    2.0\n",
       "1    4.0\n",
       "2    6.0\n",
       "3    NaN\n",
       "dtype: float64"
      ]
     },
     "execution_count": 22,
     "metadata": {},
     "output_type": "execute_result"
    },
    {
     "data": {
      "text/plain": [
       "0    1.0\n",
       "1    1.0\n",
       "2    1.0\n",
       "3    NaN\n",
       "dtype: float64"
      ]
     },
     "execution_count": 22,
     "metadata": {},
     "output_type": "execute_result"
    }
   ],
   "source": [
    "C = pandas.Series([1,2,3,4])\n",
    "D = pandas.Series([1,2,3])\n",
    "C+D\n",
    "C/D"
   ]
  },
  {
   "attachments": {},
   "cell_type": "markdown",
   "id": "567e2de0",
   "metadata": {},
   "source": [
    "<br/>\n",
    "\n",
    "### 3-2. DataFrame\n",
    "\n",
    "<hr/>\n",
    "\n",
    "DataFrame은 2차원 배열과 유사한 형태로 numpy array(ndarray)로부터 생성하거나 dictionary로부터 생성하는 방법, Series를 합쳐서 DataFrame을 만든 방법 등이 있다.\n",
    "\n",
    "<br/><br/>\n",
    "\n",
    "- 메소드의 종류\n",
    "\n",
    "| 메소드 | 설명 | Docs |\n",
    "|:------:|:------:|:------:|\n",
    "| pandas.DataFrame.groupby | DataFrame을 그룹화하는 메소드 | [링크](https://pandas.pydata.org/pandas-docs/stable/reference/api/pandas.DataFrame.groupby.html) |\n",
    "| pandas.DataFrame.to_csv | DataFrame을 csv 파일로 저장하는 메소드 | [링크](https://pandas.pydata.org/pandas-docs/stable/reference/api/pandas.DataFrame.to_csv.html?highlight=to_csv#pandas.DataFrame.to_csv) |\n",
    "| pandas.DataFrame.shape | DataFrame의 행과 열의 개수를 출력하는 메소드 | [링크](https://pandas.pydata.org/pandas-docs/stable/reference/api/pandas.DataFrame.shape.html?highlight=shape) |\n",
    "| pandas.DataFrame.iloc | DataFrame의 행과 열에서 원하는 부분을 슬라이싱 하는 메서드 | [링크](https://pandas.pydata.org/pandas-docs/stable/reference/api/pandas.DataFrame.iloc.html?highlight=iloc#pandas.DataFrame.iloc) |\n",
    "\n",
    "<br/>"
   ]
  },
  {
   "cell_type": "code",
   "execution_count": 16,
   "id": "fdfb0af6",
   "metadata": {},
   "outputs": [
    {
     "data": {
      "text/html": [
       "<div>\n",
       "<style scoped>\n",
       "    .dataframe tbody tr th:only-of-type {\n",
       "        vertical-align: middle;\n",
       "    }\n",
       "\n",
       "    .dataframe tbody tr th {\n",
       "        vertical-align: top;\n",
       "    }\n",
       "\n",
       "    .dataframe thead th {\n",
       "        text-align: right;\n",
       "    }\n",
       "</style>\n",
       "<table border=\"1\" class=\"dataframe\">\n",
       "  <thead>\n",
       "    <tr style=\"text-align: right;\">\n",
       "      <th></th>\n",
       "      <th>area</th>\n",
       "      <th>depart</th>\n",
       "    </tr>\n",
       "  </thead>\n",
       "  <tbody>\n",
       "    <tr>\n",
       "      <th>사회과학대학</th>\n",
       "      <td>13</td>\n",
       "      <td>사회복지학과</td>\n",
       "    </tr>\n",
       "    <tr>\n",
       "      <th>정보기술대학</th>\n",
       "      <td>7</td>\n",
       "      <td>컴퓨터공학부</td>\n",
       "    </tr>\n",
       "    <tr>\n",
       "      <th>공과대학</th>\n",
       "      <td>8</td>\n",
       "      <td>화학공학부</td>\n",
       "    </tr>\n",
       "  </tbody>\n",
       "</table>\n",
       "</div>"
      ],
      "text/plain": [
       "        area  depart\n",
       "사회과학대학    13  사회복지학과\n",
       "정보기술대학     7  컴퓨터공학부\n",
       "공과대학       8   화학공학부"
      ]
     },
     "execution_count": 16,
     "metadata": {},
     "output_type": "execute_result"
    }
   ],
   "source": [
    "area = pandas.Series({'사회과학대학': 13, '정보기술대학': 7, '공과대학': 8})\n",
    "depart = pandas.Series({'사회과학대학': '사회복지학과', '정보기술대학': '컴퓨터공학부',\n",
    "                        '공과대학': '기계공학부', '공과대학': '화학공학부'})\n",
    "\n",
    "university = pandas.DataFrame({'area': area, 'depart': depart})\n",
    "university"
   ]
  },
  {
   "cell_type": "code",
   "execution_count": 17,
   "id": "d9d56808",
   "metadata": {},
   "outputs": [
    {
     "data": {
      "text/html": [
       "<div>\n",
       "<style scoped>\n",
       "    .dataframe tbody tr th:only-of-type {\n",
       "        vertical-align: middle;\n",
       "    }\n",
       "\n",
       "    .dataframe tbody tr th {\n",
       "        vertical-align: top;\n",
       "    }\n",
       "\n",
       "    .dataframe thead th {\n",
       "        text-align: right;\n",
       "    }\n",
       "</style>\n",
       "<table border=\"1\" class=\"dataframe\">\n",
       "  <thead>\n",
       "    <tr style=\"text-align: right;\">\n",
       "      <th></th>\n",
       "      <th>name</th>\n",
       "      <th>year</th>\n",
       "      <th>month</th>\n",
       "      <th>day</th>\n",
       "    </tr>\n",
       "  </thead>\n",
       "  <tbody>\n",
       "    <tr>\n",
       "      <th>0</th>\n",
       "      <td>kim</td>\n",
       "      <td>2012</td>\n",
       "      <td>6</td>\n",
       "      <td>10</td>\n",
       "    </tr>\n",
       "    <tr>\n",
       "      <th>1</th>\n",
       "      <td>Lim</td>\n",
       "      <td>2013</td>\n",
       "      <td>7</td>\n",
       "      <td>11</td>\n",
       "    </tr>\n",
       "    <tr>\n",
       "      <th>2</th>\n",
       "      <td>Sung</td>\n",
       "      <td>2014</td>\n",
       "      <td>8</td>\n",
       "      <td>12</td>\n",
       "    </tr>\n",
       "    <tr>\n",
       "      <th>3</th>\n",
       "      <td>Choi</td>\n",
       "      <td>2015</td>\n",
       "      <td>9</td>\n",
       "      <td>13</td>\n",
       "    </tr>\n",
       "  </tbody>\n",
       "</table>\n",
       "</div>"
      ],
      "text/plain": [
       "   name  year  month  day\n",
       "0   kim  2012      6   10\n",
       "1   Lim  2013      7   11\n",
       "2  Sung  2014      8   12\n",
       "3  Choi  2015      9   13"
      ]
     },
     "execution_count": 17,
     "metadata": {},
     "output_type": "execute_result"
    }
   ],
   "source": [
    "inputdata={\"name\":[\"kim\", \"Lim\", \"Sung\", \"Choi\"],\n",
    "          \"year\": [2012, 2013, 2014, 2015],\n",
    "          \"month\": [6, 7, 8, 9],\n",
    "          \"day\": [10, 11, 12, 13]}\n",
    "inputFrame = pandas.DataFrame(inputdata)\n",
    "inputFrame"
   ]
  },
  {
   "cell_type": "markdown",
   "id": "2b45a616",
   "metadata": {},
   "source": [
    "<br/><br/>\n",
    "\n",
    "- DataFrame 의 연산\n",
    "\n",
    "DataFrame `+`, `-`, `*`, `/` 등의 연산을 수행할 수 있다. 만약 둘의 길이가 맞지 않으면, NaN으로 표시되는 부분이 생기는데 fill_value 옵션을 이용하면 NaN 대신 다른 값으로 출력이 가능하다.\n",
    "\n",
    "<br/>"
   ]
  },
  {
   "cell_type": "code",
   "execution_count": 23,
   "id": "f014d816",
   "metadata": {},
   "outputs": [
    {
     "data": {
      "text/html": [
       "<div>\n",
       "<style scoped>\n",
       "    .dataframe tbody tr th:only-of-type {\n",
       "        vertical-align: middle;\n",
       "    }\n",
       "\n",
       "    .dataframe tbody tr th {\n",
       "        vertical-align: top;\n",
       "    }\n",
       "\n",
       "    .dataframe thead th {\n",
       "        text-align: right;\n",
       "    }\n",
       "</style>\n",
       "<table border=\"1\" class=\"dataframe\">\n",
       "  <thead>\n",
       "    <tr style=\"text-align: right;\">\n",
       "      <th></th>\n",
       "      <th>col0</th>\n",
       "      <th>col1</th>\n",
       "      <th>col2</th>\n",
       "      <th>col3</th>\n",
       "    </tr>\n",
       "  </thead>\n",
       "  <tbody>\n",
       "    <tr>\n",
       "      <th>0</th>\n",
       "      <td>-1.0</td>\n",
       "      <td>-1.0</td>\n",
       "      <td>-11.0</td>\n",
       "      <td>NaN</td>\n",
       "    </tr>\n",
       "    <tr>\n",
       "      <th>1</th>\n",
       "      <td>-1.0</td>\n",
       "      <td>-2.0</td>\n",
       "      <td>-22.0</td>\n",
       "      <td>NaN</td>\n",
       "    </tr>\n",
       "    <tr>\n",
       "      <th>2</th>\n",
       "      <td>-1.0</td>\n",
       "      <td>-3.0</td>\n",
       "      <td>-33.0</td>\n",
       "      <td>NaN</td>\n",
       "    </tr>\n",
       "    <tr>\n",
       "      <th>3</th>\n",
       "      <td>-1.0</td>\n",
       "      <td>-4.0</td>\n",
       "      <td>-44.0</td>\n",
       "      <td>NaN</td>\n",
       "    </tr>\n",
       "    <tr>\n",
       "      <th>4</th>\n",
       "      <td>NaN</td>\n",
       "      <td>NaN</td>\n",
       "      <td>NaN</td>\n",
       "      <td>NaN</td>\n",
       "    </tr>\n",
       "  </tbody>\n",
       "</table>\n",
       "</div>"
      ],
      "text/plain": [
       "   col0  col1  col2  col3\n",
       "0  -1.0  -1.0 -11.0   NaN\n",
       "1  -1.0  -2.0 -22.0   NaN\n",
       "2  -1.0  -3.0 -33.0   NaN\n",
       "3  -1.0  -4.0 -44.0   NaN\n",
       "4   NaN   NaN   NaN   NaN"
      ]
     },
     "execution_count": 23,
     "metadata": {},
     "output_type": "execute_result"
    }
   ],
   "source": [
    "A_raw_data = {'col0': [0,1,2,3],\n",
    "             'col1': [10, 20, 30 ,40],\n",
    "             'col2': [100, 200, 300, 400]}\n",
    "B_raw_data ={'col0': [1,2,3,4,5],\n",
    "            'col1': [11, 22, 33, 44, 55],\n",
    "            'col2': [111, 222, 333, 444, 555],\n",
    "            'col3': [1111,2222,3333,4444,5555]}\n",
    "\n",
    "ADF = pandas.DataFrame(A_raw_data)\n",
    "BDF = pandas.DataFrame(B_raw_data)\n",
    "ADF-BDF"
   ]
  },
  {
   "cell_type": "code",
   "execution_count": 24,
   "id": "1d89b76d",
   "metadata": {},
   "outputs": [
    {
     "data": {
      "text/html": [
       "<div>\n",
       "<style scoped>\n",
       "    .dataframe tbody tr th:only-of-type {\n",
       "        vertical-align: middle;\n",
       "    }\n",
       "\n",
       "    .dataframe tbody tr th {\n",
       "        vertical-align: top;\n",
       "    }\n",
       "\n",
       "    .dataframe thead th {\n",
       "        text-align: right;\n",
       "    }\n",
       "</style>\n",
       "<table border=\"1\" class=\"dataframe\">\n",
       "  <thead>\n",
       "    <tr style=\"text-align: right;\">\n",
       "      <th></th>\n",
       "      <th>col0</th>\n",
       "      <th>col1</th>\n",
       "      <th>col2</th>\n",
       "      <th>col3</th>\n",
       "    </tr>\n",
       "  </thead>\n",
       "  <tbody>\n",
       "    <tr>\n",
       "      <th>0</th>\n",
       "      <td>1.0</td>\n",
       "      <td>21.0</td>\n",
       "      <td>211.0</td>\n",
       "      <td>1111.0</td>\n",
       "    </tr>\n",
       "    <tr>\n",
       "      <th>1</th>\n",
       "      <td>3.0</td>\n",
       "      <td>42.0</td>\n",
       "      <td>422.0</td>\n",
       "      <td>2222.0</td>\n",
       "    </tr>\n",
       "    <tr>\n",
       "      <th>2</th>\n",
       "      <td>5.0</td>\n",
       "      <td>63.0</td>\n",
       "      <td>633.0</td>\n",
       "      <td>3333.0</td>\n",
       "    </tr>\n",
       "    <tr>\n",
       "      <th>3</th>\n",
       "      <td>7.0</td>\n",
       "      <td>84.0</td>\n",
       "      <td>844.0</td>\n",
       "      <td>4444.0</td>\n",
       "    </tr>\n",
       "    <tr>\n",
       "      <th>4</th>\n",
       "      <td>5.0</td>\n",
       "      <td>55.0</td>\n",
       "      <td>555.0</td>\n",
       "      <td>5555.0</td>\n",
       "    </tr>\n",
       "  </tbody>\n",
       "</table>\n",
       "</div>"
      ],
      "text/plain": [
       "   col0  col1   col2    col3\n",
       "0   1.0  21.0  211.0  1111.0\n",
       "1   3.0  42.0  422.0  2222.0\n",
       "2   5.0  63.0  633.0  3333.0\n",
       "3   7.0  84.0  844.0  4444.0\n",
       "4   5.0  55.0  555.0  5555.0"
      ]
     },
     "execution_count": 24,
     "metadata": {},
     "output_type": "execute_result"
    }
   ],
   "source": [
    "ADF.add(BDF, fill_value=0)"
   ]
  },
  {
   "attachments": {},
   "cell_type": "markdown",
   "id": "d914420e",
   "metadata": {},
   "source": [
    "<br/>\n",
    "\n",
    "### 3-3. Iris Dataset\n",
    "\n",
    "<hr/>\n",
    "\n",
    "Iris dataset 은 영국의 Ronald Fisher가 1936년 논문에 제시한 붓꽃 품종 예측 데이터로 아래 주소에서 iris.data를 다운받아 사용할 수 있다. 붓꽃의 종류는 setosa, versicolor, virginica 총 3 가지로 꽃의 특징 데이터가 들어있다.<br/>\n",
    "https://archive.ics.uci.edu/ml/machine-learning-databases/iris/\n",
    "\n",
    "<br/>\n",
    "\n",
    "scikit-learn을 사용하면 아주 편리하게 dataset을 가져올 수 있다.\n",
    "\n",
    "```\n",
    "pip install sklearn\n",
    "```\n",
    "\n",
    "이제 sklearn.datasets.load_iris() 를 이용해 iris 데이터셋을 프로그램으로 가져오면 된다.<br/>\n",
    "또는 pandas.DataFrame()을 이용해 *.data 파일을 DataFrame 형식으로 가져와 해석할 수도 있다.\n",
    "\n",
    "<br/>"
   ]
  },
  {
   "cell_type": "code",
   "execution_count": 26,
   "id": "dc9ae433",
   "metadata": {},
   "outputs": [],
   "source": [
    "import pandas\n",
    "from sklearn.datasets import load_iris\n",
    "\n",
    "iris = load_iris()"
   ]
  },
  {
   "cell_type": "code",
   "execution_count": 27,
   "id": "1162023d",
   "metadata": {},
   "outputs": [
    {
     "data": {
      "text/html": [
       "<div>\n",
       "<style scoped>\n",
       "    .dataframe tbody tr th:only-of-type {\n",
       "        vertical-align: middle;\n",
       "    }\n",
       "\n",
       "    .dataframe tbody tr th {\n",
       "        vertical-align: top;\n",
       "    }\n",
       "\n",
       "    .dataframe thead th {\n",
       "        text-align: right;\n",
       "    }\n",
       "</style>\n",
       "<table border=\"1\" class=\"dataframe\">\n",
       "  <thead>\n",
       "    <tr style=\"text-align: right;\">\n",
       "      <th></th>\n",
       "      <th>sepal length (cm)</th>\n",
       "      <th>sepal width (cm)</th>\n",
       "      <th>petal length (cm)</th>\n",
       "      <th>petal width (cm)</th>\n",
       "      <th>target</th>\n",
       "    </tr>\n",
       "  </thead>\n",
       "  <tbody>\n",
       "    <tr>\n",
       "      <th>0</th>\n",
       "      <td>5.1</td>\n",
       "      <td>3.5</td>\n",
       "      <td>1.4</td>\n",
       "      <td>0.2</td>\n",
       "      <td>setosa</td>\n",
       "    </tr>\n",
       "    <tr>\n",
       "      <th>1</th>\n",
       "      <td>4.9</td>\n",
       "      <td>3.0</td>\n",
       "      <td>1.4</td>\n",
       "      <td>0.2</td>\n",
       "      <td>setosa</td>\n",
       "    </tr>\n",
       "    <tr>\n",
       "      <th>2</th>\n",
       "      <td>4.7</td>\n",
       "      <td>3.2</td>\n",
       "      <td>1.3</td>\n",
       "      <td>0.2</td>\n",
       "      <td>setosa</td>\n",
       "    </tr>\n",
       "    <tr>\n",
       "      <th>3</th>\n",
       "      <td>4.6</td>\n",
       "      <td>3.1</td>\n",
       "      <td>1.5</td>\n",
       "      <td>0.2</td>\n",
       "      <td>setosa</td>\n",
       "    </tr>\n",
       "    <tr>\n",
       "      <th>4</th>\n",
       "      <td>5.0</td>\n",
       "      <td>3.6</td>\n",
       "      <td>1.4</td>\n",
       "      <td>0.2</td>\n",
       "      <td>setosa</td>\n",
       "    </tr>\n",
       "    <tr>\n",
       "      <th>...</th>\n",
       "      <td>...</td>\n",
       "      <td>...</td>\n",
       "      <td>...</td>\n",
       "      <td>...</td>\n",
       "      <td>...</td>\n",
       "    </tr>\n",
       "    <tr>\n",
       "      <th>145</th>\n",
       "      <td>6.7</td>\n",
       "      <td>3.0</td>\n",
       "      <td>5.2</td>\n",
       "      <td>2.3</td>\n",
       "      <td>virginica</td>\n",
       "    </tr>\n",
       "    <tr>\n",
       "      <th>146</th>\n",
       "      <td>6.3</td>\n",
       "      <td>2.5</td>\n",
       "      <td>5.0</td>\n",
       "      <td>1.9</td>\n",
       "      <td>virginica</td>\n",
       "    </tr>\n",
       "    <tr>\n",
       "      <th>147</th>\n",
       "      <td>6.5</td>\n",
       "      <td>3.0</td>\n",
       "      <td>5.2</td>\n",
       "      <td>2.0</td>\n",
       "      <td>virginica</td>\n",
       "    </tr>\n",
       "    <tr>\n",
       "      <th>148</th>\n",
       "      <td>6.2</td>\n",
       "      <td>3.4</td>\n",
       "      <td>5.4</td>\n",
       "      <td>2.3</td>\n",
       "      <td>virginica</td>\n",
       "    </tr>\n",
       "    <tr>\n",
       "      <th>149</th>\n",
       "      <td>5.9</td>\n",
       "      <td>3.0</td>\n",
       "      <td>5.1</td>\n",
       "      <td>1.8</td>\n",
       "      <td>virginica</td>\n",
       "    </tr>\n",
       "  </tbody>\n",
       "</table>\n",
       "<p>150 rows × 5 columns</p>\n",
       "</div>"
      ],
      "text/plain": [
       "     sepal length (cm)  sepal width (cm)  petal length (cm)  petal width (cm)  \\\n",
       "0                  5.1               3.5                1.4               0.2   \n",
       "1                  4.9               3.0                1.4               0.2   \n",
       "2                  4.7               3.2                1.3               0.2   \n",
       "3                  4.6               3.1                1.5               0.2   \n",
       "4                  5.0               3.6                1.4               0.2   \n",
       "..                 ...               ...                ...               ...   \n",
       "145                6.7               3.0                5.2               2.3   \n",
       "146                6.3               2.5                5.0               1.9   \n",
       "147                6.5               3.0                5.2               2.0   \n",
       "148                6.2               3.4                5.4               2.3   \n",
       "149                5.9               3.0                5.1               1.8   \n",
       "\n",
       "        target  \n",
       "0       setosa  \n",
       "1       setosa  \n",
       "2       setosa  \n",
       "3       setosa  \n",
       "4       setosa  \n",
       "..         ...  \n",
       "145  virginica  \n",
       "146  virginica  \n",
       "147  virginica  \n",
       "148  virginica  \n",
       "149  virginica  \n",
       "\n",
       "[150 rows x 5 columns]"
      ]
     },
     "execution_count": 27,
     "metadata": {},
     "output_type": "execute_result"
    }
   ],
   "source": [
    "irisdf = pandas.DataFrame(iris.data, columns=iris.feature_names)\n",
    "irisdf['target'] = iris.target\n",
    "irisdf['target'] = irisdf['target'].map({0:\"setosa\", 1:\"versicolor\", 2:\"virginica\"})\n",
    "irisdf"
   ]
  },
  {
   "cell_type": "markdown",
   "id": "e0470eb1",
   "metadata": {},
   "source": [
    "<br/><br/>\n",
    "\n",
    "- pandas.DataFrame.groupby() 활용해서 평균값 구하기"
   ]
  },
  {
   "cell_type": "code",
   "execution_count": 29,
   "id": "2f50eea4",
   "metadata": {},
   "outputs": [
    {
     "data": {
      "text/html": [
       "<div>\n",
       "<style scoped>\n",
       "    .dataframe tbody tr th:only-of-type {\n",
       "        vertical-align: middle;\n",
       "    }\n",
       "\n",
       "    .dataframe tbody tr th {\n",
       "        vertical-align: top;\n",
       "    }\n",
       "\n",
       "    .dataframe thead th {\n",
       "        text-align: right;\n",
       "    }\n",
       "</style>\n",
       "<table border=\"1\" class=\"dataframe\">\n",
       "  <thead>\n",
       "    <tr style=\"text-align: right;\">\n",
       "      <th></th>\n",
       "      <th>sepal length (cm)</th>\n",
       "      <th>sepal width (cm)</th>\n",
       "      <th>petal length (cm)</th>\n",
       "      <th>petal width (cm)</th>\n",
       "    </tr>\n",
       "    <tr>\n",
       "      <th>target</th>\n",
       "      <th></th>\n",
       "      <th></th>\n",
       "      <th></th>\n",
       "      <th></th>\n",
       "    </tr>\n",
       "  </thead>\n",
       "  <tbody>\n",
       "    <tr>\n",
       "      <th>setosa</th>\n",
       "      <td>5.006</td>\n",
       "      <td>3.428</td>\n",
       "      <td>1.462</td>\n",
       "      <td>0.246</td>\n",
       "    </tr>\n",
       "    <tr>\n",
       "      <th>versicolor</th>\n",
       "      <td>5.936</td>\n",
       "      <td>2.770</td>\n",
       "      <td>4.260</td>\n",
       "      <td>1.326</td>\n",
       "    </tr>\n",
       "    <tr>\n",
       "      <th>virginica</th>\n",
       "      <td>6.588</td>\n",
       "      <td>2.974</td>\n",
       "      <td>5.552</td>\n",
       "      <td>2.026</td>\n",
       "    </tr>\n",
       "  </tbody>\n",
       "</table>\n",
       "</div>"
      ],
      "text/plain": [
       "            sepal length (cm)  sepal width (cm)  petal length (cm)  \\\n",
       "target                                                               \n",
       "setosa                  5.006             3.428              1.462   \n",
       "versicolor              5.936             2.770              4.260   \n",
       "virginica               6.588             2.974              5.552   \n",
       "\n",
       "            petal width (cm)  \n",
       "target                        \n",
       "setosa                 0.246  \n",
       "versicolor             1.326  \n",
       "virginica              2.026  "
      ]
     },
     "execution_count": 29,
     "metadata": {},
     "output_type": "execute_result"
    }
   ],
   "source": [
    "irisdf.groupby(['target']).mean()"
   ]
  },
  {
   "cell_type": "markdown",
   "id": "9136a863",
   "metadata": {},
   "source": [
    "<br/><br/>\n",
    "\n",
    "- 데이터 시각화해보기"
   ]
  },
  {
   "cell_type": "code",
   "execution_count": 31,
   "id": "a644ff83",
   "metadata": {
    "scrolled": true
   },
   "outputs": [
    {
     "data": {
      "text/plain": [
       "<matplotlib.collections.PathCollection at 0x242c4a95a00>"
      ]
     },
     "execution_count": 31,
     "metadata": {},
     "output_type": "execute_result"
    },
    {
     "data": {
      "image/png": "[encoded data removed]",
      "text/plain": [
       "<Figure size 432x288 with 1 Axes>"
      ]
     },
     "metadata": {
      "needs_background": "light"
     },
     "output_type": "display_data"
    }
   ],
   "source": [
    "import matplotlib.pyplot as plt\n",
    "SL = irisdf.iloc[:,0]\n",
    "SW = irisdf.iloc[:,1]\n",
    "PL = irisdf.iloc[:,2]\n",
    "PW = irisdf.iloc[:,3]\n",
    "name = irisdf.iloc[:,4]\n",
    "\n",
    "plt.scatter(SL, SW, c=iris.target)"
   ]
  },
  {
   "cell_type": "code",
   "execution_count": 32,
   "id": "8fbda306",
   "metadata": {},
   "outputs": [
    {
     "data": {
      "text/plain": [
       "<matplotlib.collections.PathCollection at 0x242c4b03430>"
      ]
     },
     "execution_count": 32,
     "metadata": {},
     "output_type": "execute_result"
    },
    {
     "data": {
      "image/png": "[encoded data removed]",
      "text/plain": [
       "<Figure size 432x288 with 1 Axes>"
      ]
     },
     "metadata": {
      "needs_background": "light"
     },
     "output_type": "display_data"
    }
   ],
   "source": [
    "plt.scatter(PL, PW, c=iris.target)"
   ]
  },
  {
   "cell_type": "markdown",
   "id": "2f024cad",
   "metadata": {},
   "source": [
    "<br/><br/>\n",
    "\n",
    "- 데이터셋 분할하기\n",
    "\n",
    "sklearn을 이용하면 Train set과 Test set을 나눌 수 있다. test_size 옵션을 이용해 비율을 정해주자(디폴트값=0.2) <br/>\n",
    "이렇게 분리된 Train set과 Test set의 Type은 pandas.core.frame.DataFrame로 데이터프레임 타입이다. <br/>\n",
    "각각의 DataFrame은 csv파일로 변환하여 저장할 수 있다."
   ]
  },
  {
   "cell_type": "code",
   "execution_count": 35,
   "id": "8f85be79",
   "metadata": {},
   "outputs": [
    {
     "data": {
      "text/plain": [
       "pandas.core.frame.DataFrame"
      ]
     },
     "execution_count": 35,
     "metadata": {},
     "output_type": "execute_result"
    }
   ],
   "source": [
    "import numpy as np\n",
    "from sklearn.model_selection import train_test_split\n",
    "\n",
    "# 총 150개의 데이터를 75(3/4):25(1/4) 비율로 나눈다.\n",
    "train_set, test_set= train_test_split(irisdf, test_size=0.25)\n",
    "type(train_set)\n",
    "\n",
    "train_set.to_csv(\"train_dataset.csv\")\n",
    "test_set.to_csv(\"test_dataset.csv\")"
   ]
  },
  {
   "cell_type": "code",
   "execution_count": 36,
   "id": "cac1def9",
   "metadata": {},
   "outputs": [
    {
     "data": {
      "text/html": [
       "<div>\n",
       "<style scoped>\n",
       "    .dataframe tbody tr th:only-of-type {\n",
       "        vertical-align: middle;\n",
       "    }\n",
       "\n",
       "    .dataframe tbody tr th {\n",
       "        vertical-align: top;\n",
       "    }\n",
       "\n",
       "    .dataframe thead th {\n",
       "        text-align: right;\n",
       "    }\n",
       "</style>\n",
       "<table border=\"1\" class=\"dataframe\">\n",
       "  <thead>\n",
       "    <tr style=\"text-align: right;\">\n",
       "      <th></th>\n",
       "      <th>sepal length (cm)</th>\n",
       "      <th>sepal width (cm)</th>\n",
       "      <th>petal length (cm)</th>\n",
       "      <th>petal width (cm)</th>\n",
       "    </tr>\n",
       "    <tr>\n",
       "      <th>target</th>\n",
       "      <th></th>\n",
       "      <th></th>\n",
       "      <th></th>\n",
       "      <th></th>\n",
       "    </tr>\n",
       "  </thead>\n",
       "  <tbody>\n",
       "    <tr>\n",
       "      <th>setosa</th>\n",
       "      <td>5.083333</td>\n",
       "      <td>3.60000</td>\n",
       "      <td>1.47500</td>\n",
       "      <td>0.25000</td>\n",
       "    </tr>\n",
       "    <tr>\n",
       "      <th>versicolor</th>\n",
       "      <td>6.118750</td>\n",
       "      <td>2.90625</td>\n",
       "      <td>4.43125</td>\n",
       "      <td>1.39375</td>\n",
       "    </tr>\n",
       "    <tr>\n",
       "      <th>virginica</th>\n",
       "      <td>6.910000</td>\n",
       "      <td>2.99000</td>\n",
       "      <td>5.80000</td>\n",
       "      <td>2.12000</td>\n",
       "    </tr>\n",
       "  </tbody>\n",
       "</table>\n",
       "</div>"
      ],
      "text/plain": [
       "            sepal length (cm)  sepal width (cm)  petal length (cm)  \\\n",
       "target                                                               \n",
       "setosa               5.083333           3.60000            1.47500   \n",
       "versicolor           6.118750           2.90625            4.43125   \n",
       "virginica            6.910000           2.99000            5.80000   \n",
       "\n",
       "            petal width (cm)  \n",
       "target                        \n",
       "setosa               0.25000  \n",
       "versicolor           1.39375  \n",
       "virginica            2.12000  "
      ]
     },
     "execution_count": 36,
     "metadata": {},
     "output_type": "execute_result"
    },
    {
     "data": {
      "text/html": [
       "<div>\n",
       "<style scoped>\n",
       "    .dataframe tbody tr th:only-of-type {\n",
       "        vertical-align: middle;\n",
       "    }\n",
       "\n",
       "    .dataframe tbody tr th {\n",
       "        vertical-align: top;\n",
       "    }\n",
       "\n",
       "    .dataframe thead th {\n",
       "        text-align: right;\n",
       "    }\n",
       "</style>\n",
       "<table border=\"1\" class=\"dataframe\">\n",
       "  <thead>\n",
       "    <tr style=\"text-align: right;\">\n",
       "      <th></th>\n",
       "      <th>sepal length (cm)</th>\n",
       "      <th>sepal width (cm)</th>\n",
       "      <th>petal length (cm)</th>\n",
       "      <th>petal width (cm)</th>\n",
       "    </tr>\n",
       "    <tr>\n",
       "      <th>target</th>\n",
       "      <th></th>\n",
       "      <th></th>\n",
       "      <th></th>\n",
       "      <th></th>\n",
       "    </tr>\n",
       "  </thead>\n",
       "  <tbody>\n",
       "    <tr>\n",
       "      <th>setosa</th>\n",
       "      <td>4.981579</td>\n",
       "      <td>3.373684</td>\n",
       "      <td>1.457895</td>\n",
       "      <td>0.244737</td>\n",
       "    </tr>\n",
       "    <tr>\n",
       "      <th>versicolor</th>\n",
       "      <td>5.850000</td>\n",
       "      <td>2.705882</td>\n",
       "      <td>4.179412</td>\n",
       "      <td>1.294118</td>\n",
       "    </tr>\n",
       "    <tr>\n",
       "      <th>virginica</th>\n",
       "      <td>6.507500</td>\n",
       "      <td>2.970000</td>\n",
       "      <td>5.490000</td>\n",
       "      <td>2.002500</td>\n",
       "    </tr>\n",
       "  </tbody>\n",
       "</table>\n",
       "</div>"
      ],
      "text/plain": [
       "            sepal length (cm)  sepal width (cm)  petal length (cm)  \\\n",
       "target                                                               \n",
       "setosa               4.981579          3.373684           1.457895   \n",
       "versicolor           5.850000          2.705882           4.179412   \n",
       "virginica            6.507500          2.970000           5.490000   \n",
       "\n",
       "            petal width (cm)  \n",
       "target                        \n",
       "setosa              0.244737  \n",
       "versicolor          1.294118  \n",
       "virginica           2.002500  "
      ]
     },
     "execution_count": 36,
     "metadata": {},
     "output_type": "execute_result"
    }
   ],
   "source": [
    "# test 읽어오기\n",
    "test = pandas.read_csv(\"test_dataset.csv\")\n",
    "\n",
    "# Unnamed: 0 제거\n",
    "test.drop(['Unnamed: 0'], axis = 1, inplace = True)\n",
    "test.groupby(['target']).mean()\n",
    "\n",
    "# train 읽어오기\n",
    "train = pandas.read_csv(\"train_dataset.csv\")\n",
    "\n",
    "# Unnamed: 0 제거\n",
    "train.drop(['Unnamed: 0'], axis = 1, inplace = True)\n",
    "train.groupby(['target']).mean()"
   ]
  },
  {
   "cell_type": "code",
   "execution_count": 39,
   "id": "31f52894",
   "metadata": {
    "scrolled": false
   },
   "outputs": [
    {
     "data": {
      "text/plain": [
       "<AxesSubplot:xlabel='target'>"
      ]
     },
     "execution_count": 39,
     "metadata": {},
     "output_type": "execute_result"
    },
    {
     "data": {
      "text/plain": [
       "<AxesSubplot:xlabel='target'>"
      ]
     },
     "execution_count": 39,
     "metadata": {},
     "output_type": "execute_result"
    },
    {
     "data": {
      "image/png": "[encoded data removed]",
      "text/plain": [
       "<Figure size 432x360 with 1 Axes>"
      ]
     },
     "metadata": {
      "needs_background": "light"
     },
     "output_type": "display_data"
    },
    {
     "data": {
      "image/png": "[encoded data removed]",
      "text/plain": [
       "<Figure size 432x360 with 1 Axes>"
      ]
     },
     "metadata": {
      "needs_background": "light"
     },
     "output_type": "display_data"
    }
   ],
   "source": [
    "test.groupby(['target']).mean().plot.bar(figsize=(6,5))\n",
    "\n",
    "train.groupby(['target']).mean().plot.bar(figsize=(6,5))"
   ]
  }
 ],
 "metadata": {
  "kernelspec": {
   "display_name": "Python 3 (ipykernel)",
   "language": "python",
   "name": "python3"
  },
  "language_info": {
   "codemirror_mode": {
    "name": "ipython",
    "version": 3
   },
   "file_extension": ".py",
   "mimetype": "text/x-python",
   "name": "python",
   "nbconvert_exporter": "python",
   "pygments_lexer": "ipython3",
   "version": "3.9.7"
  }
 },
 "nbformat": 4,
 "nbformat_minor": 5
}
