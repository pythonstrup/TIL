{
 "cells": [
  {
   "cell_type": "markdown",
   "id": "6a321386",
   "metadata": {},
   "source": [
    "# ML/DL for Everyone\n",
    "\n",
    "### 출처\n",
    "\n",
    "- 모두를 위한 딥러닝 시즌2\n",
    "- 링크: [모두를 위한 딥러닝 시즌2](https://www.youtube.com/watch?v=7eldOrjQVi0&list=PLQ28Nx3M4Jrguyuwg4xe9d9t2XE639e5C)\n",
    "\n",
    "<br/>\n",
    "\n",
    "## Softmax Classification\n",
    "\n",
    "<hr/>\n",
    "\n",
    "### 패키지 import"
   ]
  },
  {
   "cell_type": "code",
   "execution_count": 1,
   "id": "a5fc2643",
   "metadata": {},
   "outputs": [],
   "source": [
    "import torch\n",
    "import torch.nn as nn\n",
    "import torch.nn.functional as F\n",
    "import torch.optim as optim"
   ]
  },
  {
   "cell_type": "code",
   "execution_count": 2,
   "id": "dc8263a5",
   "metadata": {},
   "outputs": [
    {
     "data": {
      "text/plain": [
       "<torch._C.Generator at 0x129e5e498b0>"
      ]
     },
     "execution_count": 2,
     "metadata": {},
     "output_type": "execute_result"
    }
   ],
   "source": [
    "# 재현성 \n",
    "torch.manual_seed(1)"
   ]
  },
  {
   "attachments": {
    "image.png": {
     "image/png": "[encoded data removed]"
    }
   },
   "cell_type": "markdown",
   "id": "80f5324d",
   "metadata": {},
   "source": [
    "<br/>\n",
    "\n",
    "### 이산 확률 분포 Discrete Probability Distribution\n",
    "\n",
    "- 이산적인 확률 분포를 이용해 머신러닝 수행\n",
    "\n",
    "![image.png](attachment:image.png)\n",
    "\n",
    "<br/>\n",
    "\n",
    "$$ 0.09 = \\frac{e^1}{e^1 + e^2 + e^3} ,  0.2447 = \\frac{e^2}{e^1 + e^2 + e^3} ,  0.6652 = \\frac{e^3}{e^1 + e^2 + e^3}$$ "
   ]
  },
  {
   "cell_type": "code",
   "execution_count": 3,
   "id": "f1e5d9f6",
   "metadata": {},
   "outputs": [
    {
     "name": "stdout",
     "output_type": "stream",
     "text": [
      "tensor([0.0900, 0.2447, 0.6652])\n"
     ]
    }
   ],
   "source": [
    "z = torch.FloatTensor([1, 2, 3])\n",
    "\n",
    "hypothesis = F.softmax(z, dim=0)\n",
    "print(hypothesis)"
   ]
  },
  {
   "cell_type": "code",
   "execution_count": 4,
   "id": "3c0cda06",
   "metadata": {},
   "outputs": [
    {
     "data": {
      "text/plain": [
       "tensor(1.)"
      ]
     },
     "execution_count": 4,
     "metadata": {},
     "output_type": "execute_result"
    }
   ],
   "source": [
    "hypothesis.sum()"
   ]
  },
  {
   "attachments": {
    "image-2.png": {
     "image/png": "[encoded data removed]"
    },
    "image.png": {
     "image/png": "[encoded data removed]"
    }
   },
   "cell_type": "markdown",
   "id": "c4ab5445",
   "metadata": {},
   "source": [
    "위에서 1, 2, 3이 차례대로 가위, 바위, 보라고 했을 때 $ P(보|가위) = 0.6652 $ 라고 볼 수 있다. (66.52%)\n",
    "\n",
    "<br/><br/>\n",
    "\n",
    "### Cross Entropy\n",
    "\n",
    "![image.png](attachment:image.png)\n",
    "\n",
    "- cross entropy를 최소화하는 것이 중요\n",
    "\n",
    "<br/>\n",
    "\n",
    "#### Cross Entropy Loss(Low-level)\n",
    "\n",
    "![image-2.png](attachment:image-2.png)"
   ]
  },
  {
   "cell_type": "code",
   "execution_count": 10,
   "id": "71190057",
   "metadata": {},
   "outputs": [
    {
     "name": "stdout",
     "output_type": "stream",
     "text": [
      "tensor([[0.2616, 0.7713, 0.3785, 0.9980, 0.9008],\n",
      "        [0.4766, 0.1663, 0.8045, 0.6552, 0.1768],\n",
      "        [0.8248, 0.8036, 0.9434, 0.2197, 0.4177]], requires_grad=True)\n"
     ]
    }
   ],
   "source": [
    "z = torch.rand(3, 5, requires_grad=True)\n",
    "print(z)"
   ]
  },
  {
   "cell_type": "code",
   "execution_count": 11,
   "id": "f68cc44d",
   "metadata": {},
   "outputs": [
    {
     "name": "stdout",
     "output_type": "stream",
     "text": [
      "tensor([[0.1287, 0.2142, 0.1446, 0.2687, 0.2438],\n",
      "        [0.1977, 0.1450, 0.2744, 0.2364, 0.1465],\n",
      "        [0.2317, 0.2268, 0.2609, 0.1265, 0.1542]], grad_fn=<SoftmaxBackward0>)\n"
     ]
    }
   ],
   "source": [
    "hypothesis = F.softmax(z, dim=1) \n",
    "print(hypothesis)"
   ]
  },
  {
   "cell_type": "code",
   "execution_count": 12,
   "id": "7f0eb0f1",
   "metadata": {},
   "outputs": [
    {
     "name": "stdout",
     "output_type": "stream",
     "text": [
      "tensor([1, 2, 2])\n"
     ]
    }
   ],
   "source": [
    "y = torch.randint(5, (3,)).long()\n",
    "print(y)"
   ]
  },
  {
   "cell_type": "markdown",
   "id": "fe39540b",
   "metadata": {},
   "source": [
    "- Classes의 개수 = 5개 <br/>\n",
    "- Samples의 개수 = 3개\n",
    "\n",
    "<br/>\n",
    "\n",
    "#### ont-hot 벡터 표현\n",
    "\n",
    "- y.unsqueeze(1)를 통해 y가 (1,3)에서 y(3,1)로 변경됨<br/>\n",
    "$ \\begin{bmatrix}1&2&2 \\end{bmatrix} $ ==>> $ \\begin{bmatrix}1\\\\2\\\\2 \\end{bmatrix} $ \n",
    "\n",
    "<br/>\n",
    "\n",
    "- scatter_()는 '_'가 포함되어 있어 in place 함수로 쓰인다. 즉, y_one_hot에 그대로 값이 교체되어 들어감"
   ]
  },
  {
   "cell_type": "code",
   "execution_count": 16,
   "id": "c5ab334c",
   "metadata": {},
   "outputs": [
    {
     "data": {
      "text/plain": [
       "tensor([[0., 1., 0., 0., 0.],\n",
       "        [0., 0., 1., 0., 0.],\n",
       "        [0., 0., 1., 0., 0.]])"
      ]
     },
     "execution_count": 16,
     "metadata": {},
     "output_type": "execute_result"
    }
   ],
   "source": [
    "y_one_hot = torch.zeros_like(hypothesis)\n",
    "y_one_hot.scatter_(1, y.unsqueeze(1), 1)"
   ]
  },
  {
   "cell_type": "markdown",
   "id": "3efe5db9",
   "metadata": {},
   "source": [
    "**아래 벡터의 사이즈**\n",
    "- y_one_hot: (3, 5)\n",
    "- hypothesis: (3, 5)\n",
    "\n",
    "로 동일하다"
   ]
  },
  {
   "cell_type": "code",
   "execution_count": 20,
   "id": "e8e892f6",
   "metadata": {},
   "outputs": [
    {
     "data": {
      "text/plain": [
       "tensor([[0.0000, 1.5408, 0.0000, 0.0000, 0.0000],\n",
       "        [0.0000, 0.0000, 1.2930, 0.0000, 0.0000],\n",
       "        [0.0000, 0.0000, 1.3438, 0.0000, 0.0000]], grad_fn=<MulBackward0>)"
      ]
     },
     "execution_count": 20,
     "metadata": {},
     "output_type": "execute_result"
    }
   ],
   "source": [
    "(y_one_hot * -torch.log(hypothesis))"
   ]
  },
  {
   "cell_type": "code",
   "execution_count": 21,
   "id": "451ce4b0",
   "metadata": {},
   "outputs": [
    {
     "data": {
      "text/plain": [
       "tensor([1.5408, 1.2930, 1.3438], grad_fn=<SumBackward1>)"
      ]
     },
     "execution_count": 21,
     "metadata": {},
     "output_type": "execute_result"
    }
   ],
   "source": [
    "(y_one_hot * -torch.log(hypothesis)).sum(dim=1)"
   ]
  },
  {
   "cell_type": "code",
   "execution_count": 19,
   "id": "4d2aa742",
   "metadata": {},
   "outputs": [
    {
     "name": "stdout",
     "output_type": "stream",
     "text": [
      "tensor(1.3926, grad_fn=<MeanBackward0>)\n"
     ]
    }
   ],
   "source": [
    "cost = (y_one_hot * -torch.log(hypothesis)).sum(dim=1).mean()\n",
    "print(cost)"
   ]
  },
  {
   "cell_type": "markdown",
   "id": "7602f99b",
   "metadata": {},
   "source": [
    "<br/>\n",
    "\n",
    "### Cross-entropy Loss with torch.nn.functional\n",
    "\n",
    "- torch.nn.functional 라이브러리를 사용하면 위의 과정을 좀 더 쉽게 작성할 수 있다"
   ]
  },
  {
   "cell_type": "code",
   "execution_count": 22,
   "id": "fa913ed7",
   "metadata": {},
   "outputs": [
    {
     "data": {
      "text/plain": [
       "tensor([[-2.0505, -1.5408, -1.9337, -1.3141, -1.4114],\n",
       "        [-1.6209, -1.9313, -1.2930, -1.4423, -1.9207],\n",
       "        [-1.4625, -1.4837, -1.3438, -2.0675, -1.8696]], grad_fn=<LogBackward0>)"
      ]
     },
     "execution_count": 22,
     "metadata": {},
     "output_type": "execute_result"
    }
   ],
   "source": [
    "# Low level\n",
    "torch.log(F.softmax(z, dim=1))"
   ]
  },
  {
   "cell_type": "code",
   "execution_count": 23,
   "id": "5e6b78bf",
   "metadata": {},
   "outputs": [
    {
     "data": {
      "text/plain": [
       "tensor([[-2.0505, -1.5408, -1.9337, -1.3141, -1.4114],\n",
       "        [-1.6209, -1.9313, -1.2930, -1.4423, -1.9207],\n",
       "        [-1.4625, -1.4837, -1.3438, -2.0675, -1.8696]],\n",
       "       grad_fn=<LogSoftmaxBackward0>)"
      ]
     },
     "execution_count": 23,
     "metadata": {},
     "output_type": "execute_result"
    }
   ],
   "source": [
    "# High level\n",
    "F.log_softmax(z, dim=1)"
   ]
  },
  {
   "cell_type": "code",
   "execution_count": 26,
   "id": "c95de966",
   "metadata": {},
   "outputs": [
    {
     "data": {
      "text/plain": [
       "tensor(1.3926, grad_fn=<MeanBackward0>)"
      ]
     },
     "execution_count": 26,
     "metadata": {},
     "output_type": "execute_result"
    }
   ],
   "source": [
    "# Low level\n",
    "(y_one_hot * -torch.log(hypothesis)).sum(dim=1).mean()"
   ]
  },
  {
   "cell_type": "code",
   "execution_count": 27,
   "id": "e76bb57e",
   "metadata": {},
   "outputs": [
    {
     "data": {
      "text/plain": [
       "tensor(1.3926, grad_fn=<NllLossBackward0>)"
      ]
     },
     "execution_count": 27,
     "metadata": {},
     "output_type": "execute_result"
    }
   ],
   "source": [
    "# High level\n",
    "F.nll_loss(F.log_softmax(z, dim=1), y)"
   ]
  },
  {
   "cell_type": "markdown",
   "id": "240ea131",
   "metadata": {},
   "source": [
    "위에서 **NLL**은 \"Negative Log Likelihood\"의 약자이다.<br/>\n",
    "cross_entropy()함수를 사용하면 보다 간편하게 결과값을 얻을 수도 있다."
   ]
  },
  {
   "cell_type": "code",
   "execution_count": 28,
   "id": "f8582832",
   "metadata": {},
   "outputs": [
    {
     "data": {
      "text/plain": [
       "tensor(1.3926, grad_fn=<NllLossBackward0>)"
      ]
     },
     "execution_count": 28,
     "metadata": {},
     "output_type": "execute_result"
    }
   ],
   "source": [
    "F.cross_entropy(z, y)"
   ]
  },
  {
   "cell_type": "markdown",
   "id": "14ced08a",
   "metadata": {},
   "source": [
    "<br/>\n",
    "\n",
    "### Training with Low-level Cross Entropy Loss\n",
    "\n",
    "- samples = m<br/>\n",
    "- classes = 3<br/>\n",
    "- dim=4"
   ]
  },
  {
   "cell_type": "code",
   "execution_count": 29,
   "id": "22a6bb11",
   "metadata": {},
   "outputs": [],
   "source": [
    "x_train = [[1, 2, 1, 1],\n",
    "          [2, 1, 3, 2],\n",
    "          [3, 1, 3, 4],\n",
    "          [4, 1, 5, 5],\n",
    "          [1, 7, 5, 5],\n",
    "          [1, 2, 5, 6],\n",
    "          [1, 6, 6, 6],\n",
    "          [1, 7, 7, 7]]\n",
    "y_train = [2, 2, 2, 1, 1, 1, 0, 0]\n",
    "\n",
    "x_train = torch.FloatTensor(x_train)\n",
    "y_train = torch.LongTensor(y_train)"
   ]
  },
  {
   "cell_type": "code",
   "execution_count": 30,
   "id": "f1d3dbe4",
   "metadata": {},
   "outputs": [
    {
     "name": "stdout",
     "output_type": "stream",
     "text": [
      "Epoch    0/1000 Cost: 1.098612\n",
      "Epoch  100/1000 Cost: 0.901535\n",
      "Epoch  200/1000 Cost: 0.839114\n",
      "Epoch  300/1000 Cost: 0.807826\n",
      "Epoch  400/1000 Cost: 0.788472\n",
      "Epoch  500/1000 Cost: 0.774822\n",
      "Epoch  600/1000 Cost: 0.764449\n",
      "Epoch  700/1000 Cost: 0.756191\n",
      "Epoch  800/1000 Cost: 0.749398\n",
      "Epoch  900/1000 Cost: 0.743671\n",
      "Epoch 1000/1000 Cost: 0.738749\n"
     ]
    }
   ],
   "source": [
    "# 모델 초기화\n",
    "W = torch.zeros((4, 3), requires_grad=True)\n",
    "b = torch.zeros(1, requires_grad=True)\n",
    "# optimizer 설정\n",
    "optimizer = optim.SGD([W, b], lr=0.1)\n",
    "\n",
    "nb_epochs = 1000\n",
    "for epoch in range(nb_epochs + 1):\n",
    "\n",
    "    # Cost 계산 (1)\n",
    "    hypothesis = F.softmax(x_train.matmul(W) + b, dim=1) # or .mm or @\n",
    "    y_one_hot = torch.zeros_like(hypothesis)\n",
    "    y_one_hot.scatter_(1, y_train.unsqueeze(1), 1)\n",
    "    cost = (y_one_hot * -torch.log(F.softmax(hypothesis, dim=1))).sum(dim=1).mean()\n",
    "\n",
    "    # cost로 H(x) 개선\n",
    "    optimizer.zero_grad()\n",
    "    cost.backward()\n",
    "    optimizer.step()\n",
    "\n",
    "    # 100번마다 로그 출력\n",
    "    if epoch % 100 == 0:\n",
    "        print('Epoch {:4d}/{} Cost: {:.6f}'.format(\n",
    "            epoch, nb_epochs, cost.item()\n",
    "        ))"
   ]
  },
  {
   "cell_type": "markdown",
   "id": "cd98329a",
   "metadata": {},
   "source": [
    "<br/>\n",
    "\n",
    "### Training with F.cross_entropy\n",
    "\n",
    "- scatter가 필요없다"
   ]
  },
  {
   "cell_type": "code",
   "execution_count": 32,
   "id": "d74b6b04",
   "metadata": {},
   "outputs": [
    {
     "name": "stdout",
     "output_type": "stream",
     "text": [
      "Epoch    0/1000 Cost: 1.098612\n",
      "Epoch  100/1000 Cost: 0.761050\n",
      "Epoch  200/1000 Cost: 0.689991\n",
      "Epoch  300/1000 Cost: 0.643229\n",
      "Epoch  400/1000 Cost: 0.604117\n",
      "Epoch  500/1000 Cost: 0.568255\n",
      "Epoch  600/1000 Cost: 0.533922\n",
      "Epoch  700/1000 Cost: 0.500291\n",
      "Epoch  800/1000 Cost: 0.466908\n",
      "Epoch  900/1000 Cost: 0.433507\n",
      "Epoch 1000/1000 Cost: 0.399962\n"
     ]
    }
   ],
   "source": [
    "# 모델 초기화\n",
    "W = torch.zeros((4, 3), requires_grad=True)\n",
    "b = torch.zeros(1, requires_grad=True)\n",
    "# optimizer 설정\n",
    "optimizer = optim.SGD([W, b], lr=0.1)\n",
    "\n",
    "nb_epochs = 1000\n",
    "for epoch in range(nb_epochs + 1):\n",
    "\n",
    "    # Cost 계산 (2)\n",
    "    z = x_train.matmul(W) + b # or .mm or @\n",
    "    cost = F.cross_entropy(z, y_train)\n",
    "\n",
    "    # cost로 H(x) 개선\n",
    "    optimizer.zero_grad()\n",
    "    cost.backward()\n",
    "    optimizer.step()\n",
    "\n",
    "    # 100번마다 로그 출력\n",
    "    if epoch % 100 == 0:\n",
    "        print('Epoch {:4d}/{} Cost: {:.6f}'.format(\n",
    "            epoch, nb_epochs, cost.item()\n",
    "        ))"
   ]
  },
  {
   "cell_type": "markdown",
   "id": "a8fce38f",
   "metadata": {},
   "source": [
    "<br/>\n",
    "\n",
    "### High-level Implementation with nn.Module\n",
    "\n",
    "- 실전에 가까운 버전\n",
    "- 샘플 개수: 4개, 출력 개수: 3개\n",
    "- linear layer를 통과시킨 결과: $ |x| = (m, 4)  ==>> (m,3) $"
   ]
  },
  {
   "cell_type": "code",
   "execution_count": 34,
   "id": "da327175",
   "metadata": {},
   "outputs": [],
   "source": [
    "class SoftmaxClassifierModel(nn.Module):\n",
    "    def __init__(self):\n",
    "        super().__init__()\n",
    "        self.linear = nn.Linear(4, 3) # 출력이 3개 이다.\n",
    "        \n",
    "    def forward(self, x):\n",
    "        return self.linear(x)"
   ]
  },
  {
   "cell_type": "code",
   "execution_count": 36,
   "id": "34474870",
   "metadata": {},
   "outputs": [
    {
     "name": "stdout",
     "output_type": "stream",
     "text": [
      "Epoch    0/1000 Cost: 1.823884\n",
      "Epoch  100/1000 Cost: 0.678397\n",
      "Epoch  200/1000 Cost: 0.589243\n",
      "Epoch  300/1000 Cost: 0.532537\n",
      "Epoch  400/1000 Cost: 0.486882\n",
      "Epoch  500/1000 Cost: 0.446686\n",
      "Epoch  600/1000 Cost: 0.409545\n",
      "Epoch  700/1000 Cost: 0.373977\n",
      "Epoch  800/1000 Cost: 0.338811\n",
      "Epoch  900/1000 Cost: 0.303093\n",
      "Epoch 1000/1000 Cost: 0.266941\n"
     ]
    }
   ],
   "source": [
    "model = SoftmaxClassifierModel()\n",
    "\n",
    "# optimizer 설정\n",
    "optimizer = optim.SGD(model.parameters(), lr=0.1)\n",
    "\n",
    "nb_epochs = 1000\n",
    "for epoch in range(nb_epochs + 1):\n",
    "\n",
    "    # H(x) 계산\n",
    "    prediction = model(x_train)\n",
    "\n",
    "    # cost 계산\n",
    "    cost = F.cross_entropy(prediction, y_train)\n",
    "\n",
    "    # cost로 H(x) 개선\n",
    "    optimizer.zero_grad()\n",
    "    cost.backward()\n",
    "    optimizer.step()\n",
    "    \n",
    "    # 20번마다 로그 출력\n",
    "    if epoch % 100 == 0:\n",
    "        print('Epoch {:4d}/{} Cost: {:.6f}'.format(\n",
    "            epoch, nb_epochs, cost.item()\n",
    "        ))"
   ]
  },
  {
   "cell_type": "markdown",
   "id": "88430acd",
   "metadata": {},
   "source": [
    "- $ |x\\_train| = (m, 4) $\n",
    "- $ |prediction| = (m, 3) $\n",
    "- $ |y\\_train| = (m,) $"
   ]
  },
  {
   "cell_type": "markdown",
   "id": "7f3198ef",
   "metadata": {},
   "source": [
    "<br/>\n",
    "\n",
    "### 정리\n",
    "\n",
    "**Logistic Regression**은 0과 1 두 가지 클래스, 즉 이산적인 클래스가 있는 classification(분류)이다.<br/>\n",
    "반면, **Softmax classification**은 multinary 또는 multinomial 확률분포이다. (다변수)\n",
    "<br/><br/>\n",
    "\n",
    "- **Binary Classification**을 할 때는 **binary cross entropy loss**와 **Sigmoid**를 사용\n",
    "- 여러 개의 클래스가 있다면 **cross entropy loss**와 **softmax**를 사용"
   ]
  },
  {
   "cell_type": "code",
   "execution_count": null,
   "id": "a33e0c17",
   "metadata": {},
   "outputs": [],
   "source": []
  }
 ],
 "metadata": {
  "kernelspec": {
   "display_name": "Python 3 (ipykernel)",
   "language": "python",
   "name": "python3"
  },
  "language_info": {
   "codemirror_mode": {
    "name": "ipython",
    "version": 3
   },
   "file_extension": ".py",
   "mimetype": "text/x-python",
   "name": "python",
   "nbconvert_exporter": "python",
   "pygments_lexer": "ipython3",
   "version": "3.9.12"
  }
 },
 "nbformat": 4,
 "nbformat_minor": 5
}
